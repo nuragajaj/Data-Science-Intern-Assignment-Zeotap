{
  "cells": [
    {
      "cell_type": "code",
      "execution_count": null,
      "id": "de42679e-f496-480c-85c2-6358edd31231",
      "metadata": {
        "trusted": true
      },
      "outputs": [],
      "source": [
        "# Import necessary libraries\n",
        "import pandas as pd\n",
        "from sklearn.cluster import KMeans\n",
        "from sklearn.metrics import davies_bouldin_score\n",
        "from sklearn.preprocessing import StandardScaler\n",
        "import matplotlib.pyplot as plt\n",
        "import seaborn as sns"
      ]
    },
    {
      "cell_type": "code",
      "execution_count": null,
      "id": "5a87ba19-91ce-41c7-b186-570a88f09dcf",
      "metadata": {
        "trusted": true
      },
      "outputs": [],
      "source": [
        "# Load datasets\n",
        "customers_data = pd.DataFrame({\n",
        "    \"CustomerID\": [\"C0001\", \"C0002\", \"C0003\", \"C0004\"],  # Include your data here\n",
        "    \"CustomerName\": [\"Lawrence Carroll\", \"Elizabeth Lutz\", \"Michael Rivera\", \"Kathleen Rodriguez\"],\n",
        "    \"Region\": [\"South America\", \"Asia\", \"South America\", \"South America\"],\n",
        "    \"SignupDate\": [\"7/10/2022\", \"2/13/2022\", \"3/7/2024\", \"10/9/2022\"]\n",
        "})\n",
        "\n",
        "transactions_file = \"/mnt/data/Transactions.csv\"\n",
        "transactions_data = pd.read_csv(transactions_file)\n"
      ]
    },
    {
      "cell_type": "code",
      "execution_count": null,
      "id": "b73119b7-7793-469a-b498-352cd34887ee",
      "metadata": {
        "trusted": true
      },
      "outputs": [],
      "source": [
        "# Merge and preprocess data for clustering\n",
        "customer_transactions = pd.merge(transactions_data, customers_data, on=\"CustomerID\")\n",
        "customer_summary = customer_transactions.groupby(\"CustomerID\").agg(\n",
        "    total_spent=(\"TotalValue\", \"sum\"),\n",
        "    avg_quantity=(\"Quantity\", \"mean\"),\n",
        "    transaction_count=(\"TransactionID\", \"count\")\n",
        ").reset_index()"
      ]
    },
    {
      "cell_type": "code",
      "execution_count": null,
      "id": "058a26e0-d7f3-48e1-b0d2-a05f8bf950b6",
      "metadata": {
        "trusted": true
      },
      "outputs": [],
      "source": [
        "# Normalize the data\n",
        "scaler = StandardScaler()\n",
        "features = [\"total_spent\", \"avg_quantity\", \"transaction_count\"]\n",
        "customer_summary_scaled = scaler.fit_transform(customer_summary[features])"
      ]
    },
    {
      "cell_type": "code",
      "execution_count": null,
      "id": "676d5e3c-8ac3-4df7-8156-06122db30e8f",
      "metadata": {
        "trusted": true
      },
      "outputs": [],
      "source": [
        "# Perform clustering\n",
        "optimal_clusters = 0\n",
        "lowest_db_index = float(\"inf\")\n",
        "for n_clusters in range(2, 11):\n",
        "    kmeans = KMeans(n_clusters=n_clusters, random_state=42)\n",
        "    labels = kmeans.fit_predict(customer_summary_scaled)\n",
        "    db_index = davies_bouldin_score(customer_summary_scaled, labels)\n",
        "    \n",
        "    print(f\"Number of clusters: {n_clusters}, Davies-Bouldin Index: {db_index}\")\n",
        "    \n",
        "    if db_index < lowest_db_index:\n",
        "        lowest_db_index = db_index\n",
        "        optimal_clusters = n_clusters"
      ]
    },
    {
      "cell_type": "code",
      "execution_count": null,
      "id": "7245856a-5434-4625-9b2d-e004c79bf569",
      "metadata": {
        "trusted": true
      },
      "outputs": [],
      "source": [
        "# Final clustering with optimal clusters\n",
        "kmeans = KMeans(n_clusters=optimal_clusters, random_state=42)\n",
        "customer_summary[\"Cluster\"] = kmeans.fit_predict(customer_summary_scaled)"
      ]
    },
    {
      "cell_type": "code",
      "execution_count": null,
      "id": "9013d505-3f4e-4246-9c5c-a813736e94fd",
      "metadata": {
        "trusted": true
      },
      "outputs": [],
      "source": [
        "# Visualize the clusters\n",
        "plt.figure(figsize=(10, 6))\n",
        "sns.scatterplot(\n",
        "    x=customer_summary[\"total_spent\"], \n",
        "    y=customer_summary[\"avg_quantity\"], \n",
        "    hue=customer_summary[\"Cluster\"], \n",
        "    palette=\"tab10\", s=100\n",
        ")\n",
        "plt.title(\"Customer Clusters Based on Spending and Quantity\")\n",
        "plt.xlabel(\"Total Spent ($)\")\n",
        "plt.ylabel(\"Average Quantity\")\n",
        "plt.legend(title=\"Cluster\")\n",
        "plt.show()"
      ]
    },
    {
      "cell_type": "code",
      "execution_count": null,
      "id": "e9294d11-2076-48a0-96cf-5a431baff0de",
      "metadata": {
        "trusted": true
      },
      "outputs": [],
      "source": [
        "# Save clustering results\n",
        "customer_summary.to_csv(\"Arun_Gajraj_Clustering.ipynb\", index=False)"
      ]
    },
    {
      "cell_type": "code",
      "execution_count": null,
      "id": "e2feddb7-27d1-42b9-a9ec-e2220344a73c",
      "metadata": {
        "trusted": true
      },
      "outputs": [],
      "source": [
        "# Print clustering insights\n",
        "print(f\"Optimal Number of Clusters: {optimal_clusters}\")\n",
        "print(f\"Lowest Davies-Bouldin Index: {lowest_db_index}\")\n"
      ]
    }
  ],
  "metadata": {
    "kernelspec": {
      "display_name": "Python (Pyodide)",
      "language": "python",
      "name": "python"
    },
    "language_info": {
      "codemirror_mode": {
        "name": "python",
        "version": 3
      },
      "file_extension": ".py",
      "mimetype": "text/x-python",
      "name": "python",
      "nbconvert_exporter": "python",
      "pygments_lexer": "ipython3",
      "version": "3.8"
    }
  },
  "nbformat": 4,
  "nbformat_minor": 5
}
