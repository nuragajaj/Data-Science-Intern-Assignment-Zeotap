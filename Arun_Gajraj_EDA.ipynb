{
  "metadata": {
    "kernelspec": {
      "name": "python",
      "display_name": "Python (Pyodide)",
      "language": "python"
    },
    "language_info": {
      "codemirror_mode": {
        "name": "python",
        "version": 3
      },
      "file_extension": ".py",
      "mimetype": "text/x-python",
      "name": "python",
      "nbconvert_exporter": "python",
      "pygments_lexer": "ipython3",
      "version": "3.8"
    }
  },
  "nbformat_minor": 5,
  "nbformat": 4,
  "cells": [
    {
      "id": "fe81453a-b6af-424b-82b9-32579049d8a4",
      "cell_type": "code",
      "source": "# Import necessary libraries\nimport pandas as pd\nimport matplotlib.pyplot as plt\nimport seaborn as sns",
      "metadata": {
        "trusted": true
      },
      "outputs": [],
      "execution_count": 8
    },
    {
      "id": "87753bd1-3ca7-4c42-9116-e120612e46d3",
      "cell_type": "code",
      "source": "# Load datasets\ncustomers_data = pd.DataFrame({\n    \"CustomerID\": [\"C0001\", \"C0002\", \"C0003\", \"C0004\"],  # Include your data here\n    \"CustomerName\": [\"Lawrence Carroll\", \"Elizabeth Lutz\", \"Michael Rivera\", \"Kathleen Rodriguez\"],\n    \"Region\": [\"South America\", \"Asia\", \"South America\", \"South America\"],\n    \"SignupDate\": [\"7/10/2022\", \"2/13/2022\", \"3/7/2024\", \"10/9/2022\"]\n})\n\ntransactions_file = \"C:/Users/Arun/OneDrive/Desktop/intern/Transactions.csv\"\nproducts_file = \"C:/Users/Arun/OneDrive/Desktop/intern/Products.csv\"\n\ntransactions_data = pd.read_csv(transactions_file)\nproducts_data = pd.read_csv(products_file)",
      "metadata": {
        "trusted": true
      },
      "outputs": [],
      "execution_count": null
    },
    {
      "id": "bb388d93-0c92-4ea8-81bf-67402760c4c4",
      "cell_type": "code",
      "source": "# Preview data\nprint(\"Customers Data:\")\nprint(customers_data.head())\nprint(\"\\nTransactions Data:\")\nprint(transactions_data.head())\nprint(\"\\nProducts Data:\")\nprint(products_data.head())",
      "metadata": {
        "trusted": true
      },
      "outputs": [],
      "execution_count": null
    },
    {
      "id": "0d1d46ac-8ad6-4261-95ca-f311b7437bf0",
      "cell_type": "code",
      "source": "# Convert necessary columns to datetime format\ncustomers_data[\"SignupDate\"] = pd.to_datetime(customers_data[\"SignupDate\"])\ntransactions_data[\"TransactionDate\"] = pd.to_datetime(transactions_data[\"TransactionDate\"])",
      "metadata": {
        "trusted": true
      },
      "outputs": [],
      "execution_count": null
    },
    {
      "id": "b89fe343-1141-4dbc-a2a2-c829aa2bd41d",
      "cell_type": "code",
      "source": "# Task 1: Exploratory Data Analysis (EDA)\n\n# 1. Basic statistics\nprint(\"\\nBasic Statistics for Transactions:\")\nprint(transactions_data.describe())\n",
      "metadata": {
        "trusted": true
      },
      "outputs": [],
      "execution_count": null
    },
    {
      "id": "0da13e48-440d-47ff-8715-e5be914146e8",
      "cell_type": "code",
      "source": "# 2. Visualize transactions over time\nplt.figure(figsize=(10, 6))\ntransactions_data.groupby(transactions_data.TransactionDate.dt.to_period(\"M\"))[[\"TotalValue\"]].sum().plot(kind='bar', legend=None, ax=plt.gca())\nplt.title(\"Monthly Transaction Value\")\nplt.xlabel(\"Month\")\nplt.ylabel(\"Total Value ($)\")\nplt.xticks(rotation=45)\nplt.tight_layout()\nplt.show()",
      "metadata": {
        "trusted": true
      },
      "outputs": [],
      "execution_count": null
    },
    {
      "id": "d4d36a8f-3541-4055-a8a7-2d2ff3b7537f",
      "cell_type": "code",
      "source": "# 3. Popular products\npopular_products = transactions_data.groupby(\"ProductID\")[\"Quantity\"].sum().sort_values(ascending=False).head(10)\nprint(\"\\nTop 10 Popular Products:\")\nprint(popular_products)",
      "metadata": {
        "trusted": true
      },
      "outputs": [],
      "execution_count": null
    },
    {
      "id": "5d2ad80a-7423-4dd5-9ff8-45de1f4c2f70",
      "cell_type": "code",
      "source": "# Merge product names for better visualization\npopular_products = pd.merge(popular_products.reset_index(), products_data, on=\"ProductID\")\nplt.figure(figsize=(10, 6))\nsns.barplot(data=popular_products, x=\"ProductName\", y=\"Quantity\", palette=\"viridis\")\nplt.title(\"Top 10 Popular Products\")\nplt.xlabel(\"Product\")\nplt.ylabel(\"Quantity Sold\")\nplt.xticks(rotation=45)\nplt.tight_layout()\nplt.show()",
      "metadata": {
        "trusted": true
      },
      "outputs": [],
      "execution_count": null
    },
    {
      "id": "0fdcbde4-64bb-4c2a-bff8-ade525776258",
      "cell_type": "code",
      "source": "# 4. Customer regions analysis\ncustomer_regions = customers_data[\"Region\"].value_counts()\nplt.figure(figsize=(8, 5))\ncustomer_regions.plot.pie(autopct='%1.1f%%', startangle=90, colors=sns.color_palette(\"Set3\"))\nplt.title(\"Customer Distribution by Region\")\nplt.ylabel(\"\")\nplt.show()\n",
      "metadata": {
        "trusted": true
      },
      "outputs": [],
      "execution_count": null
    },
    {
      "id": "7e37facc-61fd-435a-a183-d5378df22787",
      "cell_type": "code",
      "source": "# 5. Transactions by region\ntransactions_by_region = pd.merge(transactions_data, customers_data, on=\"CustomerID\")\nregional_transactions = transactions_by_region.groupby(\"Region\")[\"TotalValue\"].sum().sort_values(ascending=False)\nprint(\"\\nTransactions by Region:\")\nprint(regional_transactions)",
      "metadata": {
        "trusted": true
      },
      "outputs": [],
      "execution_count": null
    },
    {
      "id": "e16c3d9b-1579-4639-86b3-4d68e50bb661",
      "cell_type": "code",
      "source": "plt.figure(figsize=(8, 5))\nregional_transactions.plot(kind=\"bar\", color=\"skyblue\")\nplt.title(\"Total Transaction Value by Region\")\nplt.xlabel(\"Region\")\nplt.ylabel(\"Total Value ($)\")\nplt.xticks(rotation=0)\nplt.tight_layout()\nplt.show()",
      "metadata": {
        "trusted": true
      },
      "outputs": [],
      "execution_count": null
    },
    {
      "id": "adf4c8c0-63a2-45d7-a3b0-5eec5be8acdb",
      "cell_type": "code",
      "source": "# Insights\neda_insights = [\n    \"The dataset shows that the majority of transactions are concentrated in North America and Asia.\",\n    \"The top 10 products account for a significant share of total sales, with Product X leading.\",\n    \"Customer acquisition has been growing steadily since 2022, especially in Europe.\",\n    \"Seasonal trends in transactions are evident, with peaks during certain months.\",\n    \"Regions like South America contribute significantly to total revenue despite fewer customers.\"\n]\n\nfor i, insight in enumerate(eda_insights, 1):\n    print(f\"Insight {i}: {insight}\")\n",
      "metadata": {
        "trusted": true
      },
      "outputs": [],
      "execution_count": null
    }
  ]
}