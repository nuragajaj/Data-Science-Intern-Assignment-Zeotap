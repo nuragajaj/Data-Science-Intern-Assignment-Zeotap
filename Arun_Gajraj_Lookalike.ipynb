{
  "metadata": {
    "kernelspec": {
      "name": "python",
      "display_name": "Python (Pyodide)",
      "language": "python"
    },
    "language_info": {
      "codemirror_mode": {
        "name": "python",
        "version": 3
      },
      "file_extension": ".py",
      "mimetype": "text/x-python",
      "name": "python",
      "nbconvert_exporter": "python",
      "pygments_lexer": "ipython3",
      "version": "3.8"
    }
  },
  "nbformat_minor": 5,
  "nbformat": 4,
  "cells": [
    {
      "id": "fe81453a-b6af-424b-82b9-32579049d8a4",
      "cell_type": "code",
      "source": "# Import necessary libraries\nimport pandas as pd\nfrom sklearn.metrics.pairwise import cosine_similarity\nfrom sklearn.preprocessing import StandardScaler",
      "metadata": {
        "trusted": true
      },
      "outputs": [],
      "execution_count": 8
    },
    {
      "id": "87753bd1-3ca7-4c42-9116-e120612e46d3",
      "cell_type": "code",
      "source": "# Load datasets\ncustomers_data = pd.DataFrame({\n    \"CustomerID\": [\"C0001\", \"C0002\", \"C0003\", \"C0004\"],  # Include your data here\n    \"CustomerName\": [\"Lawrence Carroll\", \"Elizabeth Lutz\", \"Michael Rivera\", \"Kathleen Rodriguez\"],\n    \"Region\": [\"South America\", \"Asia\", \"South America\", \"South America\"],\n    \"SignupDate\": [\"7/10/2022\", \"2/13/2022\", \"3/7/2024\", \"10/9/2022\"]\n})\n\ntransactions_file = \"/mnt/data/Transactions.csv\"\ntransactions_data = pd.read_csv(transactions_file)",
      "metadata": {
        "trusted": true
      },
      "outputs": [],
      "execution_count": null
    },
    {
      "id": "bb388d93-0c92-4ea8-81bf-67402760c4c4",
      "cell_type": "code",
      "source": "# Preprocessing customer and transaction data\ncustomer_transactions = pd.merge(transactions_data, customers_data, on=\"CustomerID\")\ncustomer_summary = customer_transactions.groupby(\"CustomerID\").agg(\n    total_spent=(\"TotalValue\", \"sum\"),\n    avg_quantity=(\"Quantity\", \"mean\"),\n    transaction_count=(\"TransactionID\", \"count\")\n).reset_index()",
      "metadata": {
        "trusted": true
      },
      "outputs": [],
      "execution_count": null
    },
    {
      "id": "0d1d46ac-8ad6-4261-95ca-f311b7437bf0",
      "cell_type": "code",
      "source": "# Normalize the data\nscaler = StandardScaler()\nnumerical_features = [\"total_spent\", \"avg_quantity\", \"transaction_count\"]\ncustomer_summary_scaled = scaler.fit_transform(customer_summary[numerical_features])",
      "metadata": {
        "trusted": true
      },
      "outputs": [],
      "execution_count": null
    },
    {
      "id": "b89fe343-1141-4dbc-a2a2-c829aa2bd41d",
      "cell_type": "code",
      "source": "# Calculate similarity scores\nsimilarity_matrix = cosine_similarity(customer_summary_scaled)\nsimilarity_df = pd.DataFrame(similarity_matrix, index=customer_summary[\"CustomerID\"], columns=customer_summary[\"CustomerID\"])\n",
      "metadata": {
        "trusted": true
      },
      "outputs": [],
      "execution_count": null
    },
    {
      "id": "0da13e48-440d-47ff-8715-e5be914146e8",
      "cell_type": "code",
      "source": "# Generate top 3 lookalikes for the first 20 customers\nlookalike_results = {}\nfor customer in customer_summary[\"CustomerID\"].head(20):\n    similar_customers = similarity_df[customer].sort_values(ascending=False)[1:4]\n    lookalike_results[customer] = list(similar_customers.items())",
      "metadata": {
        "trusted": true
      },
      "outputs": [],
      "execution_count": null
    },
    {
      "id": "d4d36a8f-3541-4055-a8a7-2d2ff3b7537f",
      "cell_type": "code",
      "source": "# Save results to Lookalike.csv\nlookalike_df = pd.DataFrame([\n    {\"CustomerID\": cust, \"Lookalikes\": lookalikes}\n    for cust, lookalikes in lookalike_results.items()\n])\nlookalike_df.to_csv(\"FirstName_LastName_Lookalike.csv\", index=False)\n\nprint(\"Lookalike Model Results Saved to CSV.\")",
      "metadata": {
        "trusted": true
      },
      "outputs": [],
      "execution_count": null
    }
  ]
}